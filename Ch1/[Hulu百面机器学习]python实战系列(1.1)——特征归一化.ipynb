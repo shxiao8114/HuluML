{
 "cells": [
  {
   "cell_type": "markdown",
   "metadata": {},
   "source": [
    "# Hulu 百面机器学习(1.1)——特征归一化\n",
    "## Q: 为什么要对数值类型的特征做归一化？(Lv1)\n",
    "\n",
    "咱们准备工作先下好数据集和该引进的所有包"
   ]
  },
  {
   "cell_type": "code",
   "execution_count": 2,
   "metadata": {},
   "outputs": [],
   "source": [
    "import urllib.request\n",
    "import numpy as np\n",
    "import matplotlib.pyplot as plt\n",
    "\n",
    "from memory_profiler import profile\n",
    "import time\n",
    "\n",
    "url = \"http://archive.ics.uci.edu//ml//machine-learning-databases//wine//wine.data\"\n",
    "raw_data = urllib.request.urlopen(url)\n",
    "data0 = np.loadtxt(raw_data, delimiter=\",\")"
   ]
  },
  {
   "cell_type": "markdown",
   "metadata": {},
   "source": [
    "Hulu百面机器学习实战系列说到特征归一化，我们常用两种方法：\n",
    "\n",
    "- 线性函数归一化(Min-Max Scaling)\n",
    "\n",
    "原始数据映射到$[0,1]$的范围，实现对原始数据的等比缩放。归一化公式如下:\n",
    "\n",
    "## $ X_{norm} = \\frac{X - X_{min}}{X_{max} - X_{min}} $\n",
    "\n",
    "其中：$X_{norm}$, $X$, $X_{min}$, $X_{max}$ 分别为转换后的值，转换前的值，X的最小值和最大值\n",
    "\n",
    "- 零均值归一化(z-score Normalization)\n",
    "\n",
    "去掉平均值以后除以数组的标准差，公式如下：\n",
    "\n",
    "## $ z = \\frac{X - \\mu}{\\sigma} $\n",
    "\n",
    "其中：$z$, $X$, $\\mu$, $\\sigma$ 分别为转换后的值，转换前的值，数组平均值和标准差\n",
    "\n",
    "接下来咱们进入实战吧！\n",
    "\n",
    "在正式实战之前，我们准备urllib.request去下载晚上uci机器学习数据库内的数据，这次我们用的是葡萄酒数据："
   ]
  },
  {
   "cell_type": "code",
   "execution_count": 3,
   "metadata": {},
   "outputs": [],
   "source": [
    "def minmax(arr):\n",
    "    return (arr - np.min(arr, axis=0)) / (np.max(arr, axis=0) - np.min(arr, axis=0))\n",
    "\n",
    "def zssd(arr, epsilon = 1e-12):\n",
    "    return (arr - np.mean(arr, axis=0)) / (np.std(arr, axis=0) + epsilon)\n",
    "\n",
    "@profile\n",
    "def normalization(arr,norm_type):\n",
    "    return scalers_func[norm_type](arr)\n",
    "\n",
    "scalers_func = {'minmax': minmax, 'zssd':zssd}\n",
    "@profile\n",
    "def repeats(n):\n",
    "    t0 = time.time()\n",
    "    for _ in range(n):\n",
    "        data1 = normalization(data0, 'minmax')\n",
    "        data2 = normalization(data0, 'zssd')\n",
    "    t1 = time.time()\n",
    "    print(t1-t0)"
   ]
  },
  {
   "cell_type": "markdown",
   "metadata": {},
   "source": [
    "用numpy硬干模式：(以下代码的好处便是直接运算返回结果)\n",
    "\n",
    "时间耗费0.13~0.18s；时间复杂度$O(n)$\n",
    "\n",
    "内存占用143.4MiB；空间复杂度$O(n)$\n",
    "\n",
    "n为一个数组的数据点总数"
   ]
  },
  {
   "cell_type": "code",
   "execution_count": 8,
   "metadata": {},
   "outputs": [
    {
     "name": "stdout",
     "output_type": "stream",
     "text": [
      "0.7051122188568115\n"
     ]
    }
   ],
   "source": [
    "from sklearn import preprocessing\n",
    "min_max_scaler = preprocessing.MinMaxScaler()\n",
    "standard_scaler = preprocessing.StandardScaler()\n",
    "\n",
    "n = 1000\n",
    "t0 = time.time()\n",
    "for _ in range(n):\n",
    "    data1 = min_max_scaler.fit_transform(data0)\n",
    "    data2 = standard_scaler.fit_transform(data0)\n",
    "t1 = time.time()\n",
    "print(t1-t0)"
   ]
  },
  {
   "cell_type": "markdown",
   "metadata": {},
   "source": [
    "sklearn经典模式：\n",
    "\n",
    "时间耗费0.68~0.85s；时间复杂度$O(n)$\n",
    "\n",
    "内存占用143.4MiB；空间复杂度$O(n)$\n",
    "\n",
    "n为一个数组的数据点总数"
   ]
  },
  {
   "cell_type": "code",
   "execution_count": null,
   "metadata": {},
   "outputs": [],
   "source": []
  },
  {
   "cell_type": "markdown",
   "metadata": {},
   "source": [
    "现在的问题是：为什么广为流传的sklearn包归一化数据的时间远多于粗暴的numpy代码呢？\n",
    "\n",
    "如果你看sklearn的源码或者documentation的话，就会发现它的kwarg相当之多，代码就比我的numpy粗暴算法复杂得多。\n",
    "\n",
    "因此，如果仅仅按本文的常见公式去做简单的归一化处理，直接用numpy或者甚至不用numpy就可以搞定，成熟机器学习包里面诸如取最大最小值、归一化等简单操作不值得用。\n",
    "\n",
    "接下来是画图啦！"
   ]
  },
  {
   "cell_type": "code",
   "execution_count": 10,
   "metadata": {},
   "outputs": [
    {
     "data": {
      "text/plain": [
       "<matplotlib.legend.Legend at 0x20c5b3075c8>"
      ]
     },
     "execution_count": 10,
     "metadata": {},
     "output_type": "execute_result"
    },
    {
     "data": {
      "image/png": "[encoded data removed]",
      "text/plain": [
       "<Figure size 432x432 with 1 Axes>"
      ]
     },
     "metadata": {
      "needs_background": "light"
     },
     "output_type": "display_data"
    }
   ],
   "source": [
    "fig = plt.figure(figsize = (6,6))\n",
    "plt.title('scales of x and y')\n",
    "plt.xlabel('x')\n",
    "plt.ylabel('y')\n",
    "mins = np.min(data0,axis=0)\n",
    "maxs = np.max(data0,axis=0)\n",
    "plt.xlim([-3,max(maxs[1:3])])\n",
    "plt.ylim([-3,max(maxs[1:3])])\n",
    "plt.scatter(data0[:,1],data0[:,2],s=2)\n",
    "plt.scatter(data1[:,1],data1[:,2],s=2)\n",
    "plt.scatter(data2[:,1],data2[:,2],s=2)\n",
    "plt.legend(['unnormalized','minmax-scale','z-score'])"
   ]
  },
  {
   "cell_type": "code",
   "execution_count": null,
   "metadata": {},
   "outputs": [],
   "source": []
  }
 ],
 "metadata": {
  "kernelspec": {
   "display_name": "Python 3",
   "language": "python",
   "name": "python3"
  },
  "language_info": {
   "codemirror_mode": {
    "name": "ipython",
    "version": 3
   },
   "file_extension": ".py",
   "mimetype": "text/x-python",
   "name": "python",
   "nbconvert_exporter": "python",
   "pygments_lexer": "ipython3",
   "version": "3.7.7"
  }
 },
 "nbformat": 4,
 "nbformat_minor": 4
}
