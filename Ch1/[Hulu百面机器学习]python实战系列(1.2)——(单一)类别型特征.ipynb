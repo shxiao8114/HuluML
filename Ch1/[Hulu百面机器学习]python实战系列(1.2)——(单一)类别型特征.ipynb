{
 "cells": [
  {
   "cell_type": "markdown",
   "metadata": {},
   "source": [
    "上一期我们实战了归一化的两种方法：线性函数归一化(Min-Max Scaling)和零均值归一化(z-score Normalization)。这一期我们从实数型型特征转到类别性特征去回应如下问题：\n",
    "\n",
    "\n",
    "\n",
    "**<font size=4 color= Magenta> Q: 在进行数据预处理时，应该怎么处理类别性特征？(难度：2⭐) </font>**\n",
    "\n",
    "\n",
    "我们常用三种方法处理类别型特征：\n",
    "\n",
    "序号编码(Ordinal Encoding)\n",
    "\n",
    "是将n种类别从0到n-1或1到n的整数排序，主要是可以保留不同等级(例如空气质量等级1到6级，分别对应\"优\"到\"重污染\")。\n",
    "\n",
    "\n",
    "\n",
    "独热编码(Ordinal Encoding)\n",
    "\n",
    "将一个类别变量中多种类按照每个种类的有(1)无(0)去分类。输出是：\n",
    "\n",
    "\n",
    "独热编码需要注意如下问题：\n",
    "\n",
    "(1)使用稀疏向量来节省空间。因此可以利用向量的稀疏表示有效地节省空间，并且目前大部分的算法均接受稀疏向量形式的输入。\n",
    "\n",
    "(2)配合特征选择采降低维度。高维度特征会带来几方面的问题：\n",
    "\n",
    "一是在K 近邻算法中，高维空间下两点之间的距离很难得到高效的衡量；\n",
    "\n",
    "二是在逻辑回归模型中，参数的数量会随着维度的增高而增加，容易过拟合；\n",
    "\n",
    "三是通常只有部分维度是对分类、预测有帮助，因此可以考虑配合特征选择来降低维度。(也可以用机器学习算法PCA、LDA等去选择特征和降低维度)\n",
    "\n",
    "\n",
    "\n",
    "二进制编码(Binary Encoding)\n",
    "\n",
    "序号编码的二进制数版本。好处是比独热编码更省空间，空间复杂度是\n",
    "\n",
    "\n",
    "其中N是单个类别变量中类别个数，M为样本长度。\n",
    "\n",
    "\n",
    "\n",
    "接下来咱们进入实战吧！\n",
    "\n",
    "同样，我们需要的是葡萄酒数据：(这次追加一个包是为后面的对数运算做准备)"
   ]
  },
  {
   "cell_type": "code",
   "execution_count": null,
   "metadata": {},
   "outputs": [],
   "source": [
    "import urllib.request\n",
    "import numpy as np\n",
    "import math\n",
    "\n",
    "url = \"http://archive.ics.uci.edu//ml//machine-learning-databases//wine//wine.data\"\n",
    "raw_data = urllib.request.urlopen(url)\n",
    "data0 = np.loadtxt(raw_data, delimiter=\",\")"
   ]
  },
  {
   "cell_type": "markdown",
   "metadata": {},
   "source": [
    "用numpy硬干模式："
   ]
  },
  {
   "cell_type": "code",
   "execution_count": null,
   "metadata": {},
   "outputs": [],
   "source": [
    "# arr 的 独特函数，输入一维数组，双指针算法时间复杂度为O(n)\n",
    "def unique(arr):\n",
    "    arrs = arr.copy()\n",
    "    j = 0\n",
    "    for i in range(len(arrs)):\n",
    "        if (not i) or (arrs[i] not in arrs[0 : j]):\n",
    "            arrs[j] = arrs[i]\n",
    "            j += 1\n",
    "    return arrs[0 : j]\n",
    "    # a[0] ~ a[j - 1] 所有a中不重复的数\n",
    "\n",
    "# 标签编码\n",
    "def label(arr,a):\n",
    "    arrs = np.zeros_like(arr)\n",
    "    for i in range(len(arr)):\n",
    "        arrs[i] = list(a).index(arr[i])\n",
    "    return arrs\n",
    "\n",
    "# 独热编码\n",
    "def onehot(arr,a):\n",
    "    arrs = np.zeros((len(arr),len(a)))\n",
    "    for i in range(len(arr)):\n",
    "        arrs[i,list(a).index(arr[i])] = 1\n",
    "    return arrs\n",
    "\n",
    "# 二进制编码\n",
    "def binary(arr,a):\n",
    "    arrs = np.zeros((len(arr),int(math.log(len(a)-1,2))+1),dtype = int)\n",
    "    for i in range(len(arr)):\n",
    "        q = list(a).index(arr[i])\n",
    "        cnt = -1\n",
    "        if q == 0:\n",
    "            continue\n",
    "        while q > 0:\n",
    "            q,m = q // 2, q % 2\n",
    "            arrs[i,cnt] = m\n",
    "            cnt -= 1\n",
    "    return arrs\n",
    "\n",
    "# 总函数\n",
    "encoders_func = {'label': label, 'onehot': onehot, 'binary': binary}\n",
    "def categotical_encoders(arr, encode_type):\n",
    "    a = unique(arr)\n",
    "    return encoders_func[encode_type](arr,a)\n",
    "    \n",
    "# 注意输入数组是一维的，不是n*1的二维\n",
    "data1 = categotical_encoders(data0[:,0], 'label')\n",
    "data2 = categotical_encoders(data0[:,0], 'onehot')\n",
    "data2 = categotical_encoders(data0[:,0], 'binary')"
   ]
  },
  {
   "cell_type": "markdown",
   "metadata": {},
   "source": [
    "优雅的sklearn模式："
   ]
  },
  {
   "cell_type": "code",
   "execution_count": null,
   "metadata": {},
   "outputs": [],
   "source": [
    "from sklearn import preprocessing\n",
    "from sklearn.preprocessing import OneHotEncoder\n",
    "le = preprocessing.LabelEncoder()\n",
    "ohe = OneHotEncoder(handle_unknown='ignore')\n",
    "\n",
    "# 求unique 函数\n",
    "le.fit(data0[:,0])\n",
    "data1 = le.transform(data0[:,0])\n",
    "ohe.fit(data0[:,0:1])\n",
    "data2 = ohe.transform(data0[:,0:1])"
   ]
  },
  {
   "cell_type": "markdown",
   "metadata": {},
   "source": [
    "| 算法框架(重复1000次)  | numpy | sklearn |\n",
    "| :--------- | :--: | -----------: |\n",
    "| 时间耗费(不考虑二进制编码)     |3.50s |3.26s|\n",
    "| 时间耗费(二进制编码)   |  3.05s  |  N/A |\n",
    "| 空间占用 | 128.3MiB | 129.1MiB |"
   ]
  },
  {
   "cell_type": "markdown",
   "metadata": {},
   "source": [
    "二进制编码省空间但是耗时，是因为他的时间复杂度为$O(n(logn))$，高于其他两种方法的$O(n)$显然可以接受，毕竟是新开了一个二维数组，对每个数据点进行多次k进制商和余数的计算，去求二进制数。\n",
    "\n",
    "上一期代码耗时也是按重复1000次来计算的。\n",
    "\n",
    "各位敬请期待下一期：\n",
    "\n",
    "[Hulu百面机器学习]python实战系列(1.3-1.4)——(高维)组合特征"
   ]
  },
  {
   "cell_type": "code",
   "execution_count": null,
   "metadata": {},
   "outputs": [],
   "source": []
  }
 ],
 "metadata": {
  "kernelspec": {
   "display_name": "Python 3",
   "language": "python",
   "name": "python3"
  },
  "language_info": {
   "codemirror_mode": {
    "name": "ipython",
    "version": 3
   },
   "file_extension": ".py",
   "mimetype": "text/x-python",
   "name": "python",
   "nbconvert_exporter": "python",
   "pygments_lexer": "ipython3",
   "version": "3.7.7"
  }
 },
 "nbformat": 4,
 "nbformat_minor": 4
}
